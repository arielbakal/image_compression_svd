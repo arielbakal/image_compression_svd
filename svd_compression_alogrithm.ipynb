{
  "cells": [
    {
      "cell_type": "code",
      "source": [
        "import numpy as np\n",
        "import matplotlib.pyplot as plt"
      ],
      "metadata": {
        "id": "0RfDEhBwG4Gt"
      },
      "execution_count": 125,
      "outputs": []
    },
    {
      "cell_type": "code",
      "source": [
        "def svd_truncation(matrix, rank):\n",
        "    U, s, Vt = np.linalg.svd(matrix)\n",
        "\n",
        "    U_truncated = U[:,:rank]\n",
        "    Vt_truncated = Vt[:rank]\n",
        "    s_truncated = s[:rank]\n",
        "\n",
        "    return np.shape(matrix), U_truncated, Vt_truncated, s_truncated"
      ],
      "metadata": {
        "id": "HenjOb7cUP6o"
      },
      "execution_count": null,
      "outputs": []
    },
    {
      "cell_type": "code",
      "source": [
        "def matrix_padding(shape, U_truncated, Vt_truncated, s_truncated):\n",
        "    n, m = shape\n",
        "\n",
        "    U_padded = np.pad(U_truncated, ((0, n - U_truncated.shape[0]), (0, n - U_truncated.shape[1])), mode='constant')\n",
        "\n",
        "    Vt_padded = np.pad(Vt_truncated, ((0, m - Vt_truncated.shape[0]), (0, m - Vt_truncated.shape[1])), mode='constant')\n",
        "\n",
        "    Z_padded = np.zeros((n, m))\n",
        "    Z_padded[:s_truncated.shape[0], :s_truncated.shape[0]] = np.diag(s_truncated)\n",
        "\n",
        "    B = U_padded @ Z_padded @ Vt_padded\n",
        "    return B"
      ],
      "metadata": {
        "id": "KhqfiHdSUY63"
      },
      "execution_count": null,
      "outputs": []
    }
  ],
  "metadata": {
    "kernelspec": {
      "display_name": "Python 3",
      "language": "python",
      "name": "python3"
    },
    "language_info": {
      "codemirror_mode": {
        "name": "ipython",
        "version": 3
      },
      "file_extension": ".py",
      "mimetype": "text/x-python",
      "name": "python",
      "nbconvert_exporter": "python",
      "pygments_lexer": "ipython3",
      "version": "3.10.11"
    },
    "orig_nbformat": 4,
    "colab": {
      "provenance": [],
      "toc_visible": true
    }
  },
  "nbformat": 4,
  "nbformat_minor": 0
}